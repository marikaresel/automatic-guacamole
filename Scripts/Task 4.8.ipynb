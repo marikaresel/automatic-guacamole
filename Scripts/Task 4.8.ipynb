{
 "cells": [
  {
   "cell_type": "markdown",
   "id": "42b2f120-2a14-41c2-8f83-f658214ee5b2",
   "metadata": {},
   "source": [
    "# Task 4.8"
   ]
  },
  {
   "cell_type": "code",
   "execution_count": 1,
   "id": "83c9b59d-1b9d-4576-aed6-60544c624497",
   "metadata": {},
   "outputs": [],
   "source": [
    "# Importing libraries\n",
    "import pandas as pd\n",
    "import numpy as np\n",
    "import os"
   ]
  },
  {
   "cell_type": "code",
   "execution_count": 2,
   "id": "5d976ed0-8d10-4a5d-9d9d-f9cd9a1ae643",
   "metadata": {
    "editable": true,
    "slideshow": {
     "slide_type": ""
    },
    "tags": []
   },
   "outputs": [],
   "source": [
    "# Import data file \"orders_products_combined.pkl\"\n",
    "ords_prods_merge = pd.read_pickle('/Users/marika/Instacart Basket Analysis 04.14.24/02 Data/Prepared Data/orders_products_merged.pkl')"
   ]
  },
  {
   "cell_type": "code",
   "execution_count": 3,
   "id": "80ad1061-c76d-4a76-98e7-a213c6bb9307",
   "metadata": {},
   "outputs": [
    {
     "data": {
      "text/html": [
       "<div>\n",
       "<style scoped>\n",
       "    .dataframe tbody tr th:only-of-type {\n",
       "        vertical-align: middle;\n",
       "    }\n",
       "\n",
       "    .dataframe tbody tr th {\n",
       "        vertical-align: top;\n",
       "    }\n",
       "\n",
       "    .dataframe thead th {\n",
       "        text-align: right;\n",
       "    }\n",
       "</style>\n",
       "<table border=\"1\" class=\"dataframe\">\n",
       "  <thead>\n",
       "    <tr style=\"text-align: right;\">\n",
       "      <th></th>\n",
       "      <th>Unnamed: 0_x</th>\n",
       "      <th>order_id</th>\n",
       "      <th>user_id</th>\n",
       "      <th>order_number</th>\n",
       "      <th>orders_day_of_week</th>\n",
       "      <th>order_hour_of_day</th>\n",
       "      <th>days_since_prior_order</th>\n",
       "      <th>product_id</th>\n",
       "      <th>add_to_cart_order</th>\n",
       "      <th>reordered</th>\n",
       "      <th>...</th>\n",
       "      <th>Unnamed: 0_y</th>\n",
       "      <th>product_name</th>\n",
       "      <th>aisle_id</th>\n",
       "      <th>department_id</th>\n",
       "      <th>prices</th>\n",
       "      <th>merge_indicator</th>\n",
       "      <th>price_range_loc</th>\n",
       "      <th>busiest_day</th>\n",
       "      <th>busiest_days</th>\n",
       "      <th>busiest_period_of_day</th>\n",
       "    </tr>\n",
       "  </thead>\n",
       "  <tbody>\n",
       "    <tr>\n",
       "      <th>0</th>\n",
       "      <td>0</td>\n",
       "      <td>2539329</td>\n",
       "      <td>1</td>\n",
       "      <td>1</td>\n",
       "      <td>2</td>\n",
       "      <td>8</td>\n",
       "      <td>NaN</td>\n",
       "      <td>196</td>\n",
       "      <td>1</td>\n",
       "      <td>0</td>\n",
       "      <td>...</td>\n",
       "      <td>195</td>\n",
       "      <td>Soda</td>\n",
       "      <td>77</td>\n",
       "      <td>7</td>\n",
       "      <td>9.0</td>\n",
       "      <td>both</td>\n",
       "      <td>Mid-range product</td>\n",
       "      <td>Regularly busy</td>\n",
       "      <td>Regularly busy</td>\n",
       "      <td>Average orders</td>\n",
       "    </tr>\n",
       "    <tr>\n",
       "      <th>1</th>\n",
       "      <td>1</td>\n",
       "      <td>2398795</td>\n",
       "      <td>1</td>\n",
       "      <td>2</td>\n",
       "      <td>3</td>\n",
       "      <td>7</td>\n",
       "      <td>15.0</td>\n",
       "      <td>196</td>\n",
       "      <td>1</td>\n",
       "      <td>1</td>\n",
       "      <td>...</td>\n",
       "      <td>195</td>\n",
       "      <td>Soda</td>\n",
       "      <td>77</td>\n",
       "      <td>7</td>\n",
       "      <td>9.0</td>\n",
       "      <td>both</td>\n",
       "      <td>Mid-range product</td>\n",
       "      <td>Regularly busy</td>\n",
       "      <td>Slowest days</td>\n",
       "      <td>Average orders</td>\n",
       "    </tr>\n",
       "    <tr>\n",
       "      <th>2</th>\n",
       "      <td>2</td>\n",
       "      <td>473747</td>\n",
       "      <td>1</td>\n",
       "      <td>3</td>\n",
       "      <td>3</td>\n",
       "      <td>12</td>\n",
       "      <td>21.0</td>\n",
       "      <td>196</td>\n",
       "      <td>1</td>\n",
       "      <td>1</td>\n",
       "      <td>...</td>\n",
       "      <td>195</td>\n",
       "      <td>Soda</td>\n",
       "      <td>77</td>\n",
       "      <td>7</td>\n",
       "      <td>9.0</td>\n",
       "      <td>both</td>\n",
       "      <td>Mid-range product</td>\n",
       "      <td>Regularly busy</td>\n",
       "      <td>Slowest days</td>\n",
       "      <td>Average orders</td>\n",
       "    </tr>\n",
       "    <tr>\n",
       "      <th>3</th>\n",
       "      <td>3</td>\n",
       "      <td>2254736</td>\n",
       "      <td>1</td>\n",
       "      <td>4</td>\n",
       "      <td>4</td>\n",
       "      <td>7</td>\n",
       "      <td>29.0</td>\n",
       "      <td>196</td>\n",
       "      <td>1</td>\n",
       "      <td>1</td>\n",
       "      <td>...</td>\n",
       "      <td>195</td>\n",
       "      <td>Soda</td>\n",
       "      <td>77</td>\n",
       "      <td>7</td>\n",
       "      <td>9.0</td>\n",
       "      <td>both</td>\n",
       "      <td>Mid-range product</td>\n",
       "      <td>Least busy</td>\n",
       "      <td>Slowest days</td>\n",
       "      <td>Average orders</td>\n",
       "    </tr>\n",
       "    <tr>\n",
       "      <th>4</th>\n",
       "      <td>4</td>\n",
       "      <td>431534</td>\n",
       "      <td>1</td>\n",
       "      <td>5</td>\n",
       "      <td>4</td>\n",
       "      <td>15</td>\n",
       "      <td>28.0</td>\n",
       "      <td>196</td>\n",
       "      <td>1</td>\n",
       "      <td>1</td>\n",
       "      <td>...</td>\n",
       "      <td>195</td>\n",
       "      <td>Soda</td>\n",
       "      <td>77</td>\n",
       "      <td>7</td>\n",
       "      <td>9.0</td>\n",
       "      <td>both</td>\n",
       "      <td>Mid-range product</td>\n",
       "      <td>Least busy</td>\n",
       "      <td>Slowest days</td>\n",
       "      <td>Average orders</td>\n",
       "    </tr>\n",
       "  </tbody>\n",
       "</table>\n",
       "<p>5 rows × 21 columns</p>\n",
       "</div>"
      ],
      "text/plain": [
       "   Unnamed: 0_x  order_id  user_id  order_number  orders_day_of_week  \\\n",
       "0             0   2539329        1             1                   2   \n",
       "1             1   2398795        1             2                   3   \n",
       "2             2    473747        1             3                   3   \n",
       "3             3   2254736        1             4                   4   \n",
       "4             4    431534        1             5                   4   \n",
       "\n",
       "   order_hour_of_day  days_since_prior_order  product_id  add_to_cart_order  \\\n",
       "0                  8                     NaN         196                  1   \n",
       "1                  7                    15.0         196                  1   \n",
       "2                 12                    21.0         196                  1   \n",
       "3                  7                    29.0         196                  1   \n",
       "4                 15                    28.0         196                  1   \n",
       "\n",
       "   reordered  ... Unnamed: 0_y  product_name aisle_id  department_id  prices  \\\n",
       "0          0  ...          195          Soda       77              7     9.0   \n",
       "1          1  ...          195          Soda       77              7     9.0   \n",
       "2          1  ...          195          Soda       77              7     9.0   \n",
       "3          1  ...          195          Soda       77              7     9.0   \n",
       "4          1  ...          195          Soda       77              7     9.0   \n",
       "\n",
       "   merge_indicator    price_range_loc     busiest_day    busiest_days  \\\n",
       "0             both  Mid-range product  Regularly busy  Regularly busy   \n",
       "1             both  Mid-range product  Regularly busy    Slowest days   \n",
       "2             both  Mid-range product  Regularly busy    Slowest days   \n",
       "3             both  Mid-range product      Least busy    Slowest days   \n",
       "4             both  Mid-range product      Least busy    Slowest days   \n",
       "\n",
       "  busiest_period_of_day  \n",
       "0        Average orders  \n",
       "1        Average orders  \n",
       "2        Average orders  \n",
       "3        Average orders  \n",
       "4        Average orders  \n",
       "\n",
       "[5 rows x 21 columns]"
      ]
     },
     "execution_count": 3,
     "metadata": {},
     "output_type": "execute_result"
    }
   ],
   "source": [
    "# Check the DataFrame structure\n",
    "ords_prods_merge.head()"
   ]
  },
  {
   "cell_type": "code",
   "execution_count": 4,
   "id": "4b73f76e-af49-4690-b63a-99e630372ca4",
   "metadata": {},
   "outputs": [],
   "source": [
    "# Calculate the aggregated mean of the \"order_number\" column grouped by \"department_id\" for the entire DataFrame\n",
    "department_order_number_mean = ords_prods_merge.groupby('department_id')['order_number'].mean()"
   ]
  },
  {
   "cell_type": "code",
   "execution_count": 5,
   "id": "de4131ef-ab77-4f14-b120-7bb2c8a12c57",
   "metadata": {},
   "outputs": [
    {
     "name": "stdout",
     "output_type": "stream",
     "text": [
      "department_id\n",
      "1     15.457687\n",
      "2     17.277920\n",
      "3     17.179756\n",
      "4     17.811403\n",
      "5     15.213779\n",
      "6     16.439806\n",
      "7     17.225773\n",
      "8     15.340520\n",
      "9     15.895474\n",
      "10    20.197148\n",
      "11    16.170828\n",
      "12    15.887622\n",
      "13    16.583304\n",
      "14    16.757377\n",
      "15    16.165037\n",
      "16    17.663250\n",
      "17    15.694469\n",
      "18    19.310397\n",
      "19    17.177343\n",
      "20    16.473447\n",
      "21    22.902379\n",
      "Name: order_number, dtype: float64\n"
     ]
    }
   ],
   "source": [
    "# Display the aggregated mean\n",
    "print(department_order_number_mean)"
   ]
  },
  {
   "cell_type": "code",
   "execution_count": null,
   "id": "7748d974-be80-4618-beb7-6247265fe524",
   "metadata": {},
   "outputs": [],
   "source": [
    "The results for the entire DataFrame will give us the average order number for each department across all orders made by all users.\n",
    "In contrast, the results for the subset would have provided the average order number for each department within a specific subset of \n",
    "orders."
   ]
  },
  {
   "cell_type": "code",
   "execution_count": 6,
   "id": "d5b25848-4161-4420-b6b8-41e5a69953b5",
   "metadata": {},
   "outputs": [],
   "source": [
    "# Define the threshold for loyalty (e.g., customers with more than 10 orders are considered loyal)\n",
    "loyalty_threshold = 10"
   ]
  },
  {
   "cell_type": "code",
   "execution_count": 7,
   "id": "8289e0c2-bde3-41a3-b763-8f579f061818",
   "metadata": {},
   "outputs": [],
   "source": [
    "# Create a new column 'loyalty_flag' and initialize with 'Regular' for all customers\n",
    "ords_prods_merge['loyalty_flag'] = 'Regular'"
   ]
  },
  {
   "cell_type": "code",
   "execution_count": 8,
   "id": "bf1e879a-3bb6-4318-a576-f332023b78a6",
   "metadata": {},
   "outputs": [],
   "source": [
    "# Use transform to calculate the total number of orders for each user\n",
    "ords_prods_merge['total_orders'] = ords_prods_merge.groupby('user_id')['order_number'].transform('max')"
   ]
  },
  {
   "cell_type": "code",
   "execution_count": 9,
   "id": "93d1aab3-0ce6-4d7a-986c-9884820433c3",
   "metadata": {},
   "outputs": [],
   "source": [
    "# Update the loyalty flag for existing customers\n",
    "ords_prods_merge.loc[ords_prods_merge['total_orders'] > loyalty_threshold, 'loyalty_flag'] = 'Loyal'"
   ]
  },
  {
   "cell_type": "code",
   "execution_count": 10,
   "id": "3d30080f-3376-4e94-941f-8befa99c59a1",
   "metadata": {},
   "outputs": [],
   "source": [
    "# Drop the temporary column 'total_orders'\n",
    "ords_prods_merge.drop('total_orders', axis=1, inplace=True)"
   ]
  },
  {
   "cell_type": "markdown",
   "id": "f72c204e-7795-4f63-8c9e-19a543c8e288",
   "metadata": {},
   "source": [
    "# Products purchased by regular or new customers"
   ]
  },
  {
   "cell_type": "code",
   "execution_count": 11,
   "id": "2028f1c0-af60-4973-8278-214913671972",
   "metadata": {},
   "outputs": [],
   "source": [
    "# Create subsets for each loyalty category\n",
    "loyal_customers = ords_prods_merge[ords_prods_merge['loyalty_flag'] == 'Loyal']\n",
    "regular_customers = ords_prods_merge[ords_prods_merge['loyalty_flag'] == 'Regular']\n",
    "new_customers = ords_prods_merge[ords_prods_merge['loyalty_flag'] == 'New']"
   ]
  },
  {
   "cell_type": "code",
   "execution_count": 12,
   "id": "31610046-884b-4d74-8f81-77eca7036bf6",
   "metadata": {},
   "outputs": [],
   "source": [
    "# Calculate basic statistics of product prices for each loyalty category\n",
    "loyal_prices_stats = loyal_customers['prices'].describe()\n",
    "regular_prices_stats = regular_customers['prices'].describe()\n",
    "new_prices_stats = new_customers['prices'].describe()"
   ]
  },
  {
   "cell_type": "code",
   "execution_count": 13,
   "id": "f4ee46bf-c651-4e20-aef9-93b3f5352af6",
   "metadata": {},
   "outputs": [
    {
     "name": "stdout",
     "output_type": "stream",
     "text": [
      "Loyal Customers:\n",
      "count    2.618481e+07\n",
      "mean     1.166772e+01\n",
      "std      4.678503e+02\n",
      "min      1.000000e+00\n",
      "25%      4.200000e+00\n",
      "50%      7.400000e+00\n",
      "75%      1.130000e+01\n",
      "max      9.999900e+04\n",
      "Name: prices, dtype: float64\n",
      "\n",
      "Regular Customers:\n",
      "count    6.249398e+06\n",
      "mean     1.329437e+01\n",
      "std      5.973017e+02\n",
      "min      1.000000e+00\n",
      "25%      4.200000e+00\n",
      "50%      7.400000e+00\n",
      "75%      1.130000e+01\n",
      "max      9.999900e+04\n",
      "Name: prices, dtype: float64\n",
      "\n",
      "New Customers:\n",
      "count    0.0\n",
      "mean     NaN\n",
      "std      NaN\n",
      "min      NaN\n",
      "25%      NaN\n",
      "50%      NaN\n",
      "75%      NaN\n",
      "max      NaN\n",
      "Name: prices, dtype: float64\n"
     ]
    }
   ],
   "source": [
    "# Display the basic statistics for each loyalty category\n",
    "print(\"Loyal Customers:\")\n",
    "print(loyal_prices_stats)\n",
    "print(\"\\nRegular Customers:\")\n",
    "print(regular_prices_stats)\n",
    "print(\"\\nNew Customers:\")\n",
    "print(new_prices_stats)"
   ]
  },
  {
   "cell_type": "markdown",
   "id": "f4546d4e-9a54-49a4-9348-21c46972b119",
   "metadata": {},
   "source": [
    "# Mean price of products purchased by each use"
   ]
  },
  {
   "cell_type": "code",
   "execution_count": 18,
   "id": "b554a6f3-a1f2-408c-a05e-78266f1d1f98",
   "metadata": {},
   "outputs": [
    {
     "name": "stdout",
     "output_type": "stream",
     "text": [
      "   user_id spending_flag\n",
      "0        1   Low spender\n",
      "1        1   Low spender\n",
      "2        1   Low spender\n",
      "3        1   Low spender\n",
      "4        1   Low spender\n"
     ]
    }
   ],
   "source": [
    "# Calculate the mean price of products purchased by each user and reset the index\n",
    "user_mean_prices = ords_prods_merge.groupby('user_id')['prices'].mean().reset_index()\n",
    "\n",
    "# Create a spending flag for each user based on the average price\n",
    "ords_prods_merge['spending_flag'] = 'Low spender'\n",
    "ords_prods_merge.loc[user_mean_prices[user_mean_prices['prices'] >= 10]['user_id'], 'spending_flag'] = 'High spender'\n",
    "\n",
    "# Display the first few rows to verify the spending flags\n",
    "print(ords_prods_merge[['user_id', 'spending_flag']].head())"
   ]
  },
  {
   "cell_type": "markdown",
   "id": "be1b71b4-f969-4715-b869-d3ddb5e40a80",
   "metadata": {},
   "source": [
    "# Median of the \"days_since_prior_order\" column"
   ]
  },
  {
   "cell_type": "code",
   "execution_count": 23,
   "id": "c3ba08b3-0708-4d08-ac2c-b6f5b13aa07b",
   "metadata": {},
   "outputs": [],
   "source": [
    "# Calculate the median of \"days_since_prior_order\" for each user and reset the index\n",
    "user_median_days_since_prior_order = ords_prods_merge.groupby('user_id')['days_since_prior_order'].median().reset_index()"
   ]
  },
  {
   "cell_type": "code",
   "execution_count": 24,
   "id": "0c08022b-c75a-4e04-9a72-e0d1a19f79ce",
   "metadata": {},
   "outputs": [],
   "source": [
    "# Create a new column 'order_frequency_flag' and initialize it with 'Frequent customer' for all users\n",
    "ords_prods_merge['order_frequency_flag'] = 'Frequent customer'"
   ]
  },
  {
   "cell_type": "code",
   "execution_count": 25,
   "id": "cbbdf781-dad5-4903-b185-4678f09fec20",
   "metadata": {},
   "outputs": [],
   "source": [
    "# Assign the order frequency flag based on the median value\n",
    "ords_prods_merge.loc[ords_prods_merge['user_id'].isin(user_median_days_since_prior_order[user_median_days_since_prior_order['days_since_prior_order'] > 20]['user_id']), 'order_frequency_flag'] = 'Non-frequent customer'\n",
    "ords_prods_merge.loc[(ords_prods_merge['user_id'].isin(user_median_days_since_prior_order[user_median_days_since_prior_order['days_since_prior_order'] <= 20]['user_id'])) & (ords_prods_merge['user_id'].isin(user_median_days_since_prior_order[user_median_days_since_prior_order['days_since_prior_order'] > 10]['user_id'])), 'order_frequency_flag'] = 'Regular customer'"
   ]
  },
  {
   "cell_type": "code",
   "execution_count": 26,
   "id": "46757768-049b-4e00-9efc-4c8addcd2d02",
   "metadata": {},
   "outputs": [
    {
     "name": "stdout",
     "output_type": "stream",
     "text": [
      "   user_id   order_frequency_flag\n",
      "0        1  Non-frequent customer\n",
      "1        1  Non-frequent customer\n",
      "2        1  Non-frequent customer\n",
      "3        1  Non-frequent customer\n",
      "4        1  Non-frequent customer\n"
     ]
    }
   ],
   "source": [
    "# Display the first few rows to verify the order frequency flags\n",
    "print(ords_prods_merge[['user_id', 'order_frequency_flag']].head())"
   ]
  },
  {
   "cell_type": "code",
   "execution_count": 27,
   "id": "58c2abdc-d526-4cd6-8cc3-4f768d2cfa34",
   "metadata": {},
   "outputs": [],
   "source": [
    "# Define the path to the directory containing the CSV file\n",
    "path = '/Users/marika/Instacart Basket Analysis 04.14.24'\n",
    "\n",
    "# Export data to pkl\n",
    "ords_prods_merge.to_pickle(os.path.join(path, '02 Data','Prepared Data', 'orders_products_merged.pkl'))"
   ]
  },
  {
   "cell_type": "code",
   "execution_count": null,
   "id": "21abf6b4-0667-418e-8573-2f0abd00ca51",
   "metadata": {},
   "outputs": [],
   "source": []
  }
 ],
 "metadata": {
  "kernelspec": {
   "display_name": "Python 3 (ipykernel)",
   "language": "python",
   "name": "python3"
  },
  "language_info": {
   "codemirror_mode": {
    "name": "ipython",
    "version": 3
   },
   "file_extension": ".py",
   "mimetype": "text/x-python",
   "name": "python",
   "nbconvert_exporter": "python",
   "pygments_lexer": "ipython3",
   "version": "3.11.7"
  }
 },
 "nbformat": 4,
 "nbformat_minor": 5
}
